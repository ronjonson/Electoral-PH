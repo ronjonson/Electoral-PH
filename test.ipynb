{
 "cells": [
  {
   "cell_type": "code",
   "execution_count": 1,
   "metadata": {},
   "outputs": [],
   "source": [
    "import pandas as pd"
   ]
  },
  {
   "cell_type": "code",
   "execution_count": 2,
   "metadata": {},
   "outputs": [],
   "source": [
    "path = 'data\\provinces-svg.txt'"
   ]
  },
  {
   "cell_type": "code",
   "execution_count": 26,
   "metadata": {},
   "outputs": [],
   "source": [
    "data = pd.read_csv(path,sep=':', header=None, index_col=0)"
   ]
  },
  {
   "cell_type": "code",
   "execution_count": 28,
   "metadata": {},
   "outputs": [
    {
     "data": {
      "text/plain": [
       "{1: 0\n",
       " Bacolod               M 97 93.4 L 98.5 94.3 L 97.9 94.7 L 97.6 95 L...\n",
       " Negros Occidental     M 97 93.4 L 98.5 94.3 L 97.9 94.7 L 97.6 95 L...\n",
       " Negros Oriental       M 100.6 96.7 L 99.9 96.4 L 98.8 96.4 L 99.4 9...\n",
       " Guimaras              M 94.3 93.2 L 94.8 93.5 L 95 94.5 L 94 96.1 L...\n",
       " Iloilo City           M 90.2 87.9 L 90.8 89.4 L 91.3 88.7 L 96.1 89...\n",
       "                                            ...                        \n",
       " Taguig                M 26.9 41.5 L 30.2 39.7 L 29.7 38.7 V 37.9 L ...\n",
       " Pasay                 M 21.5 36.9 H 23.5 L 25 38.9 V 40.2 L 25.5 41...\n",
       " Paranaque             M 20.6 41.4 L 23.5 40.9 L 23.5 44.6 L 28.9 45...\n",
       " Las Pinas                M 20.8 47.5 L 27 55.3 L 24.3 62 L 18.1 49.9 Z\n",
       " Muntinlupa            M 31.6 50.6 L 30.1 51.2 L 30 54 L 27 55.3 L 2...\n",
       " Name: 1, Length: 109, dtype: object}"
      ]
     },
     "execution_count": 28,
     "metadata": {},
     "output_type": "execute_result"
    }
   ],
   "source": [
    "data.to_dict('series')"
   ]
  },
  {
   "cell_type": "code",
   "execution_count": 13,
   "metadata": {},
   "outputs": [],
   "source": [
    "a = data.values.tolist()"
   ]
  },
  {
   "cell_type": "code",
   "execution_count": 16,
   "metadata": {},
   "outputs": [
    {
     "data": {
      "text/plain": [
       "' M 97 93.4 L 98.5 94.3 L 97.9 94.7 L 97.6 95 L 97.1 95 L 96.7 94.6 Z'"
      ]
     },
     "execution_count": 16,
     "metadata": {},
     "output_type": "execute_result"
    }
   ],
   "source": [
    "a[0][1]"
   ]
  },
  {
   "cell_type": "code",
   "execution_count": null,
   "metadata": {},
   "outputs": [],
   "source": []
  }
 ],
 "metadata": {
  "kernelspec": {
   "display_name": "Python 3",
   "language": "python",
   "name": "python3"
  },
  "language_info": {
   "codemirror_mode": {
    "name": "ipython",
    "version": 3
   },
   "file_extension": ".py",
   "mimetype": "text/x-python",
   "name": "python",
   "nbconvert_exporter": "python",
   "pygments_lexer": "ipython3",
   "version": "3.10.11"
  },
  "orig_nbformat": 4
 },
 "nbformat": 4,
 "nbformat_minor": 2
}
